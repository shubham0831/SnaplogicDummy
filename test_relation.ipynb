{
 "cells": [
  {
   "cell_type": "code",
   "execution_count": 9,
   "id": "12783fbc",
   "metadata": {},
   "outputs": [
    {
     "name": "stdout",
     "output_type": "stream",
     "text": [
      "Type: <class 'list'>\n"
     ]
    }
   ],
   "source": [
    "import json\n",
    " \n",
    "# Opening JSON file\n",
    "with open('products.json') as json_file:\n",
    "    product = json.load(json_file)\n",
    "    product = product['products']\n",
    "    # Print the type of data variable\n",
    "    print(\"Type:\", type(product))"
   ]
  },
  {
   "cell_type": "code",
   "execution_count": 10,
   "id": "8e658a86",
   "metadata": {},
   "outputs": [
    {
     "name": "stdout",
     "output_type": "stream",
     "text": [
      "Type: <class 'list'>\n"
     ]
    }
   ],
   "source": [
    "with open('test1.json') as json_file:\n",
    "    test = json.load(json_file)\n",
    "    test = test['test']\n",
    "    # Print the type of data variable\n",
    "    print(\"Type:\", type(test))"
   ]
  },
  {
   "cell_type": "code",
   "execution_count": 14,
   "id": "7f0d93fb",
   "metadata": {},
   "outputs": [
    {
     "name": "stdout",
     "output_type": "stream",
     "text": [
      "randomField ---> 1\n",
      "title ---> iPhone 9\n",
      "description ---> An apple mobile which is nothing like apple\n",
      "price ---> 549\n",
      "discountPercentage ---> 12.96\n",
      "rating ---> 4.69\n",
      "stock ---> 94\n",
      "brand ---> Apple\n",
      "category ---> smartphones\n",
      "thumbnail ---> https://dummyjson.com/image/i/products/1/thumbnail.jpg\n",
      "images ---> ['https://dummyjson.com/image/i/products/1/1.jpg', 'https://dummyjson.com/image/i/products/1/2.jpg', 'https://dummyjson.com/image/i/products/1/3.jpg', 'https://dummyjson.com/image/i/products/1/4.jpg', 'https://dummyjson.com/image/i/products/1/thumbnail.jpg']\n",
      "----------------------------------------------------------------\n",
      "randomField ---> 2\n",
      "title ---> iPhone X\n",
      "description ---> SIM-Free, Model A19211 6.5-inch Super Retina HD display with OLED technology A12 Bionic chip with ...\n",
      "price ---> 899\n",
      "discountPercentage ---> 17.94\n",
      "rating ---> 4.44\n",
      "stock ---> 34\n",
      "brand ---> Apple\n",
      "category ---> smartphones\n",
      "thumbnail ---> https://dummyjson.com/image/i/products/2/thumbnail.jpg\n",
      "images ---> ['https://dummyjson.com/image/i/products/2/1.jpg', 'https://dummyjson.com/image/i/products/2/2.jpg', 'https://dummyjson.com/image/i/products/2/3.jpg', 'https://dummyjson.com/image/i/products/2/thumbnail.jpg']\n",
      "----------------------------------------------------------------\n",
      "randomField ---> 3\n",
      "title ---> Samsung Universe 9\n",
      "description ---> Samsung's new variant which goes beyond Galaxy to the Universe\n",
      "price ---> 1249\n",
      "discountPercentage ---> 15.46\n",
      "rating ---> 4.09\n",
      "stock ---> 36\n",
      "brand ---> Samsung\n",
      "category ---> smartphones\n",
      "thumbnail ---> https://dummyjson.com/image/i/products/3/thumbnail.jpg\n",
      "images ---> ['https://dummyjson.com/image/i/products/3/1.jpg']\n",
      "----------------------------------------------------------------\n",
      "randomField ---> 4\n",
      "title ---> OPPOF19\n",
      "description ---> OPPO F19 is officially announced on April 2021.\n",
      "price ---> 280\n",
      "discountPercentage ---> 17.91\n",
      "rating ---> 4.3\n",
      "stock ---> 123\n",
      "brand ---> OPPO\n",
      "category ---> smartphones\n",
      "thumbnail ---> https://dummyjson.com/image/i/products/4/thumbnail.jpg\n",
      "images ---> ['https://dummyjson.com/image/i/products/4/1.jpg', 'https://dummyjson.com/image/i/products/4/2.jpg', 'https://dummyjson.com/image/i/products/4/3.jpg', 'https://dummyjson.com/image/i/products/4/4.jpg', 'https://dummyjson.com/image/i/products/4/thumbnail.jpg']\n",
      "----------------------------------------------------------------\n"
     ]
    }
   ],
   "source": [
    "for p in product:\n",
    "    for k, v in p.items():\n",
    "        print(k + \" ---> \" + str(v))\n",
    "    print('----------------------------------------------------------------')"
   ]
  },
  {
   "cell_type": "markdown",
   "id": "92a604b8",
   "metadata": {},
   "source": [
    "# Ideas\n",
    "\n",
    "## Primary Key Detection\n",
    "\n",
    "    1) Go through each data in each field and figure out if they are unique\n",
    "\n",
    "    2) Have predefined field names, such as id, etc, these fields have a high likelihood of being a primary key. Maybe use ML to get these predefined names? \n",
    "\n",
    "    3) Sample data randomly (say 1000 rows) and do point 1\n",
    "\n",
    "    4) If first table does not have a primary key, we go to the next table, and try and find the PK in that. If we find the PK, we can then check the 1st table again, and this time try to identify a FK \n",
    "\n",
    "    5) If one table has multiple PK candidates, we note them down, check another table for FK candidates, and using that we can identify the PK in the 1st table\n",
    "\n",
    "#### Note\n",
    "\n",
    "    1) A table can have only 1 PK\n",
    "\n",
    "    2) A table can have multiple foreign keys, and they can reference the same table as well\n",
    "\n",
    "    3) A FOREIGN KEY constraint does not have to be linked only to a PRIMARY KEY constraint in another table; it can also be defined to reference the columns of a UNIQUE constraint in another table.\n",
    "    \n",
    "#### Potential Rules\n",
    "    \n",
    "    1) Primary keys can only be an int, string, timestamp, and date? - no float, decimals, etc\n",
    "    \n",
    "    2) If field is string, we only consider it to be a PK candidate if it's length is less than n characters\n",
    "    \n",
    "    3) Elements in a list, or object cannot be primary key\n",
    "    \n",
    "#### Q's \n",
    "\n",
    "    1) Ask them whether they have a record of all primary key col names they have encountered\n",
    "    \n",
    "    2) Two fields, same data type, similar values, both unique (maybe ask user at that point)\n",
    "    \n",
    "    \n",
    "#### Potential Methodology ( >2 tables)\n",
    "\n",
    "    1) Create a table of our own, the columns will be PK's of each table the user has provided. Then to identify FK we run a check through this table, and identify which tableKey combo does the potential FK refers to. \n",
    "    This table can have columns with PK candidates as well, these cols will be dropped once we have reached a conclusion about which is the PK for the table\n",
    "\n",
    "\n",
    "\n",
    "\n",
    "\n",
    "\n",
    "\n",
    "table 1 \n",
    "\n",
    "f1(pk)  f2\n",
    "\n",
    "1        2\n",
    "2        1\n",
    "\n",
    "\n",
    "table 2\n",
    "\n",
    "f3(fk)\n",
    "1\n",
    "2\n",
    "2\n",
    "1"
   ]
  },
  {
   "cell_type": "code",
   "execution_count": null,
   "id": "d0e0ee22",
   "metadata": {},
   "outputs": [],
   "source": []
  }
 ],
 "metadata": {
  "kernelspec": {
   "display_name": "Python 3 (ipykernel)",
   "language": "python",
   "name": "python3"
  },
  "language_info": {
   "codemirror_mode": {
    "name": "ipython",
    "version": 3
   },
   "file_extension": ".py",
   "mimetype": "text/x-python",
   "name": "python",
   "nbconvert_exporter": "python",
   "pygments_lexer": "ipython3",
   "version": "3.8.10"
  }
 },
 "nbformat": 4,
 "nbformat_minor": 5
}
